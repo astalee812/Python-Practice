{
 "cells": [
  {
   "cell_type": "code",
   "execution_count": 1,
   "metadata": {},
   "outputs": [
    {
     "data": {
      "text/plain": [
       "7"
      ]
     },
     "execution_count": 1,
     "metadata": {},
     "output_type": "execute_result"
    }
   ],
   "source": [
    "3+4"
   ]
  },
  {
   "cell_type": "code",
   "execution_count": 2,
   "metadata": {},
   "outputs": [
    {
     "name": "stdout",
     "output_type": "stream",
     "text": [
      "5\n",
      "-1\n",
      "6\n",
      "5.0\n",
      "9\n",
      "2\n"
     ]
    }
   ],
   "source": [
    "print(2 + 3)\n",
    "print(2 - 3)\n",
    "print(2 * 3)\n",
    "print(10 / 2)\n",
    "print(3 ** 2) # R 語言使用 3 ^ 2\n",
    "print(10 % 4) # R 語言使用 10 %% 4"
   ]
  },
  {
   "cell_type": "code",
   "execution_count": null,
   "metadata": {},
   "outputs": [],
   "source": [
    "help(type)"
   ]
  },
  {
   "cell_type": "code",
   "execution_count": 4,
   "metadata": {},
   "outputs": [
    {
     "name": "stdout",
     "output_type": "stream",
     "text": [
      "<class 'int'>\n",
      "<class 'float'>\n",
      "<class 'complex'>\n",
      "<class 'bool'>\n",
      "<class 'bool'>\n",
      "<class 'str'>\n"
     ]
    }
   ],
   "source": [
    "print(type(5)) # 'int'\n",
    "print(type(5.5)) # 'float'\n",
    "print(type(5 + 3j)) # 'complex'\n",
    "print(type(True)) # 'bool'\n",
    "print(type(False)) # 'bool'\n",
    "print(type(\"2017 ithome ironman\")) # 'str'\n",
    "#R中的變數類型有數值(numeric, integer, complex)、邏輯(logical-T/F)、文字(character)\n",
    "#character 對應 str，然後 logical 對應 bool，以及 numeric 對應 float"
   ]
  },
  {
   "cell_type": "code",
   "execution_count": 5,
   "metadata": {},
   "outputs": [
    {
     "ename": "TypeError",
     "evalue": "can only concatenate str (not \"int\") to str",
     "output_type": "error",
     "traceback": [
      "\u001b[1;31m---------------------------------------------------------------------------\u001b[0m",
      "\u001b[1;31mTypeError\u001b[0m                                 Traceback (most recent call last)",
      "\u001b[1;32m<ipython-input-5-7a4916989b72>\u001b[0m in \u001b[0;36m<module>\u001b[1;34m\u001b[0m\n\u001b[0;32m      1\u001b[0m \u001b[0mdays\u001b[0m \u001b[1;33m=\u001b[0m \u001b[1;36m30\u001b[0m\u001b[1;33m\u001b[0m\u001b[1;33m\u001b[0m\u001b[0m\n\u001b[1;32m----> 2\u001b[1;33m \u001b[0mprint\u001b[0m\u001b[1;33m(\u001b[0m\u001b[1;34m\"In order to become an ironman, you have to publish an article a day for \"\u001b[0m \u001b[1;33m+\u001b[0m \u001b[0mdays\u001b[0m \u001b[1;33m+\u001b[0m \u001b[1;34m\" days in a row.\"\u001b[0m\u001b[1;33m)\u001b[0m\u001b[1;33m\u001b[0m\u001b[1;33m\u001b[0m\u001b[0m\n\u001b[0m",
      "\u001b[1;31mTypeError\u001b[0m: can only concatenate str (not \"int\") to str"
     ]
    }
   ],
   "source": [
    "days = 30\n",
    "print(\"In order to become an ironman, you have to publish an article a day for \" + days + \" days in a row.\")"
   ]
  },
  {
   "cell_type": "code",
   "execution_count": 6,
   "metadata": {},
   "outputs": [
    {
     "name": "stdout",
     "output_type": "stream",
     "text": [
      "True\n",
      "True\n",
      "2.2\n",
      "5\n",
      "2017 ithome ironman rocks!\n",
      "2017 ithome ironman rocks!!!\n"
     ]
    }
   ],
   "source": [
    "print(1.0 == True) # True\n",
    "print(0 == False) # True\n",
    "print(1.2 + True) # 2.2\n",
    "print(3 + True * 2) # 5\n",
    "print(\"2017 ithome ironman\" + \" rocks!\") # \"2017 ithome ironman rocks!\"\n",
    "print(\"2017 ithome ironman \" + \"rocks\" + \"!\" * 3) # \"2017 ithome ironman rocks!!!\""
   ]
  },
  {
   "cell_type": "code",
   "execution_count": null,
   "metadata": {},
   "outputs": [],
   "source": [
    "days = 30\n",
    "days += 3 #days = days + 3\n",
    "print(days)"
   ]
  },
  {
   "cell_type": "code",
   "execution_count": 1,
   "metadata": {},
   "outputs": [
    {
     "name": "stdout",
     "output_type": "stream",
     "text": [
      "[46  8 11 11  4 56]\n"
     ]
    }
   ],
   "source": [
    "import numpy as np\n",
    "ironman = np.array([46,8,11,11,4,56]) #將list 用array的方式呈現出來\n",
    "print(ironman)"
   ]
  },
  {
   "cell_type": "code",
   "execution_count": 2,
   "metadata": {},
   "outputs": [
    {
     "name": "stdout",
     "output_type": "stream",
     "text": [
      "<class 'numpy.ndarray'>\n"
     ]
    }
   ],
   "source": [
    "print(type(ironman))"
   ]
  },
  {
   "cell_type": "code",
   "execution_count": 4,
   "metadata": {},
   "outputs": [
    {
     "name": "stdout",
     "output_type": "stream",
     "text": [
      "[1380  240  330  330  120 1680]\n"
     ]
    }
   ],
   "source": [
    "articles = ironman * 30\n",
    "print(articles)"
   ]
  },
  {
   "cell_type": "code",
   "execution_count": 10,
   "metadata": {},
   "outputs": [
    {
     "name": "stdout",
     "output_type": "stream",
     "text": [
      "46\n"
     ]
    }
   ],
   "source": [
    "import numpy as np\n",
    "ironmen = np.array([46, 8, 11, 11, 4, 56])\n",
    "print(ironmen[0]) # print第一組的資料"
   ]
  },
  {
   "cell_type": "code",
   "execution_count": 11,
   "metadata": {},
   "outputs": [
    {
     "name": "stdout",
     "output_type": "stream",
     "text": [
      "[ True False  True  True False  True]\n"
     ]
    }
   ],
   "source": [
    "print(ironmen > 10) # print 哪幾組的人數超過10個人，會出現是T/F"
   ]
  },
  {
   "cell_type": "code",
   "execution_count": 12,
   "metadata": {},
   "outputs": [
    {
     "name": "stdout",
     "output_type": "stream",
     "text": [
      "[46 11 11 56]\n"
     ]
    }
   ],
   "source": [
    "print(ironmen[ironmen > 10]) # print超過10個人的人數"
   ]
  },
  {
   "cell_type": "code",
   "execution_count": 15,
   "metadata": {},
   "outputs": [
    {
     "name": "stdout",
     "output_type": "stream",
     "text": [
      "46\n",
      "[[ True  True False]\n",
      " [False  True  True]]\n",
      "[46 11 11 56]\n"
     ]
    }
   ],
   "source": [
    "import numpy as np\n",
    "ironmen_2d_array = np.array([[46, 11, 4], [8, 11, 56]])\n",
    "print(ironmen_2d_array[0, 0]) # print 第一組的人數\n",
    "print(ironmen_2d_array > 10)\n",
    "print(ironmen_2d_array[ironmen_2d_array > 10])"
   ]
  },
  {
   "cell_type": "code",
   "execution_count": 16,
   "metadata": {},
   "outputs": [
    {
     "name": "stdout",
     "output_type": "stream",
     "text": [
      "6\n",
      "(2, 3)\n"
     ]
    }
   ],
   "source": [
    "# 用.size以及.shape來了解array的型態\n",
    "import numpy as np\n",
    "ironmen_2d_array = np.array([[46, 11, 4], [8, 11, 56]])\n",
    "print(ironmen_2d_array.size) # 有幾個東西\n",
    "print(ironmen_2d_array.shape) # 有點像是R裡面的dim"
   ]
  },
  {
   "cell_type": "code",
   "execution_count": 20,
   "metadata": {
    "scrolled": true
   },
   "outputs": [
    {
     "data": {
      "text/html": [
       "<div>\n",
       "<style scoped>\n",
       "    .dataframe tbody tr th:only-of-type {\n",
       "        vertical-align: middle;\n",
       "    }\n",
       "\n",
       "    .dataframe tbody tr th {\n",
       "        vertical-align: top;\n",
       "    }\n",
       "\n",
       "    .dataframe thead th {\n",
       "        text-align: right;\n",
       "    }\n",
       "</style>\n",
       "<table border=\"1\" class=\"dataframe\">\n",
       "  <thead>\n",
       "    <tr style=\"text-align: right;\">\n",
       "      <th></th>\n",
       "      <th>groups</th>\n",
       "      <th>ironmen</th>\n",
       "    </tr>\n",
       "  </thead>\n",
       "  <tbody>\n",
       "    <tr>\n",
       "      <th>0</th>\n",
       "      <td>Modern Web</td>\n",
       "      <td>46</td>\n",
       "    </tr>\n",
       "    <tr>\n",
       "      <th>1</th>\n",
       "      <td>DevOps</td>\n",
       "      <td>8</td>\n",
       "    </tr>\n",
       "    <tr>\n",
       "      <th>2</th>\n",
       "      <td>Cloud</td>\n",
       "      <td>12</td>\n",
       "    </tr>\n",
       "    <tr>\n",
       "      <th>3</th>\n",
       "      <td>Big Data</td>\n",
       "      <td>12</td>\n",
       "    </tr>\n",
       "    <tr>\n",
       "      <th>4</th>\n",
       "      <td>Security</td>\n",
       "      <td>6</td>\n",
       "    </tr>\n",
       "    <tr>\n",
       "      <th>5</th>\n",
       "      <td>自我挑戰組</td>\n",
       "      <td>58</td>\n",
       "    </tr>\n",
       "  </tbody>\n",
       "</table>\n",
       "</div>"
      ],
      "text/plain": [
       "       groups  ironmen\n",
       "0  Modern Web       46\n",
       "1      DevOps        8\n",
       "2       Cloud       12\n",
       "3    Big Data       12\n",
       "4    Security        6\n",
       "5       自我挑戰組       58"
      ]
     },
     "execution_count": 20,
     "metadata": {},
     "output_type": "execute_result"
    }
   ],
   "source": [
    "# 開始data.frame的玩耍 -1\n",
    "import pandas as pd\n",
    "groups = [\"Modern Web\", \"DevOps\", \"Cloud\", \"Big Data\", \"Security\", \"自我挑戰組\"]\n",
    "ironmen = [46, 8, 12, 12, 6, 58]\n",
    "ironmen_dict = {\"groups\": groups,\n",
    "                             \"ironmen\": ironmen}\n",
    "ironmen_df = pd.DataFrame(ironmen_dict)\n",
    "ironmen_df"
   ]
  },
  {
   "cell_type": "code",
   "execution_count": 21,
   "metadata": {},
   "outputs": [
    {
     "data": {
      "text/html": [
       "<div>\n",
       "<style scoped>\n",
       "    .dataframe tbody tr th:only-of-type {\n",
       "        vertical-align: middle;\n",
       "    }\n",
       "\n",
       "    .dataframe tbody tr th {\n",
       "        vertical-align: top;\n",
       "    }\n",
       "\n",
       "    .dataframe thead th {\n",
       "        text-align: right;\n",
       "    }\n",
       "</style>\n",
       "<table border=\"1\" class=\"dataframe\">\n",
       "  <thead>\n",
       "    <tr style=\"text-align: right;\">\n",
       "      <th></th>\n",
       "      <th>groups</th>\n",
       "      <th>ironmen</th>\n",
       "    </tr>\n",
       "  </thead>\n",
       "  <tbody>\n",
       "    <tr>\n",
       "      <th>0</th>\n",
       "      <td>Modern Web</td>\n",
       "      <td>46</td>\n",
       "    </tr>\n",
       "    <tr>\n",
       "      <th>1</th>\n",
       "      <td>DevOps</td>\n",
       "      <td>8</td>\n",
       "    </tr>\n",
       "    <tr>\n",
       "      <th>2</th>\n",
       "      <td>Cloud</td>\n",
       "      <td>12</td>\n",
       "    </tr>\n",
       "    <tr>\n",
       "      <th>3</th>\n",
       "      <td>Big Data</td>\n",
       "      <td>12</td>\n",
       "    </tr>\n",
       "    <tr>\n",
       "      <th>4</th>\n",
       "      <td>Security</td>\n",
       "      <td>6</td>\n",
       "    </tr>\n",
       "    <tr>\n",
       "      <th>5</th>\n",
       "      <td>自我挑戰組</td>\n",
       "      <td>58</td>\n",
       "    </tr>\n",
       "  </tbody>\n",
       "</table>\n",
       "</div>"
      ],
      "text/plain": [
       "       groups  ironmen\n",
       "0  Modern Web       46\n",
       "1      DevOps        8\n",
       "2       Cloud       12\n",
       "3    Big Data       12\n",
       "4    Security        6\n",
       "5       自我挑戰組       58"
      ]
     },
     "execution_count": 21,
     "metadata": {},
     "output_type": "execute_result"
    }
   ],
   "source": [
    "# dataframe另外的寫法!! 驚人!!!\n",
    "import pandas as pd\n",
    "groups = [\"Modern Web\", \"DevOps\", \"Cloud\", \"Big Data\", \"Security\", \"自我挑戰組\"]\n",
    "ironmen = [46, 8, 12, 12, 6, 58]\n",
    "df = pd.DataFrame()\n",
    "df[\"groups\"] = groups\n",
    "df[\"ironmen\"] = ironmen\n",
    "df"
   ]
  },
  {
   "cell_type": "code",
   "execution_count": 22,
   "metadata": {},
   "outputs": [
    {
     "name": "stdout",
     "output_type": "stream",
     "text": [
      "<class 'list'>\n"
     ]
    }
   ],
   "source": [
    "print(type(ironmen))"
   ]
  },
  {
   "cell_type": "code",
   "execution_count": 24,
   "metadata": {},
   "outputs": [
    {
     "name": "stdout",
     "output_type": "stream",
     "text": [
      "[[1 3]\n",
      " [2 4]]\n",
      "   col1  col2\n",
      "0     1     3\n",
      "1     2     4\n"
     ]
    }
   ],
   "source": [
    "# 還有一種方式可以做dataFrame!!! 把array弄成dataframe\n",
    "import numpy as np\n",
    "import pandas as pd\n",
    "my_2d_array = np.array([[1, 3], [2, 4]])\n",
    "print(my_2d_array)\n",
    "my_df = pd.DataFrame(my_2d_array, columns = [\"col1\", \"col2\"])\n",
    "print(my_df)"
   ]
  },
  {
   "cell_type": "code",
   "execution_count": 44,
   "metadata": {},
   "outputs": [
    {
     "name": "stdout",
     "output_type": "stream",
     "text": [
      "0    46\n",
      "Name: ironmen, dtype: int64\n",
      "---\n",
      "       groups  ironmen\n",
      "0  Modern Web       46\n",
      "---\n",
      "0    46\n",
      "1     8\n",
      "2    12\n",
      "3    12\n",
      "4     6\n",
      "5    58\n",
      "Name: ironmen, dtype: int64\n",
      "---\n",
      "0    46\n",
      "1     8\n",
      "2    12\n",
      "3    12\n",
      "4     6\n",
      "5    58\n",
      "Name: ironmen, dtype: int64\n",
      "---\n",
      "0    46\n",
      "1     8\n",
      "2    12\n",
      "3    12\n",
      "4     6\n",
      "5    58\n",
      "Name: ironmen, dtype: int64\n"
     ]
    }
   ],
   "source": [
    " # 選擇元素或者欄位\n",
    "import pandas as pd\n",
    "groups = [\"Modern Web\", \"DevOps\", \"Cloud\", \"Big Data\", \"Security\", \"自我挑戰組\"]\n",
    "ironmen = [46, 8, 12, 12, 6, 58]\n",
    "ironmen_dict = {\"groups\": groups,\n",
    "                \"ironmen\": ironmen}\n",
    "ironmen_df = pd.DataFrame(ironmen_dict)\n",
    "ironmen_df\n",
    "print(ironmen_df.iloc[0:1, 1]) # 第一列第二欄：Modern Web 組的人數\n",
    "print(ironmen_df.iloc[1, 1]) # compare with [0:1,1] ，只差在有沒有編號，如果是[0:2]就是列出兩個列\n",
    "print(\"---\")\n",
    "print(ironmen_df.iloc[0:1,:]) # 第一列：Modern Web 組的組名與人數\n",
    "print(\"---\")\n",
    "print(ironmen_df.iloc[:,1]) # 第二欄：各組的鐵人數\n",
    "print(\"---\")\n",
    "print(ironmen_df[\"ironmen\"]) # 各組的鐵人數\n",
    "print(\"---\")\n",
    "print(ironmen_df.ironmen) # 各組的鐵人數"
   ]
  },
  {
   "cell_type": "code",
   "execution_count": 41,
   "metadata": {},
   "outputs": [
    {
     "name": "stdout",
     "output_type": "stream",
     "text": [
      "       groups  ironmen\n",
      "0  Modern Web       46\n",
      "1      DevOps        8\n",
      "2       Cloud       12\n",
      "3    Big Data       12\n",
      "4    Security        6\n",
      "5       自我挑戰組       58\n",
      "Cloud\n"
     ]
    }
   ],
   "source": [
    "print(ironmen_df)\n",
    "print(ironmen_df.iloc[2,0])"
   ]
  },
  {
   "cell_type": "code",
   "execution_count": 46,
   "metadata": {},
   "outputs": [
    {
     "name": "stdout",
     "output_type": "stream",
     "text": [
      "       groups  ironmen\n",
      "0  Modern Web       46\n",
      "2       Cloud       12\n",
      "3    Big Data       12\n",
      "5       自我挑戰組       58\n"
     ]
    }
   ],
   "source": [
    "import pandas as pd\n",
    "\n",
    "groups = [\"Modern Web\", \"DevOps\", \"Cloud\", \"Big Data\", \"Security\", \"自我挑戰組\"]\n",
    "ironmen = [46, 8, 12, 12, 6, 58]\n",
    "\n",
    "ironmen_dict = {\"groups\": groups,\n",
    "                \"ironmen\": ironmen\n",
    "                }\n",
    "ironmen_df = pd.DataFrame(ironmen_dict)\n",
    "# ironmen_df.loc[:,\"ironmen\"] > 10 這個結果是T / F，然後把T的印出來\n",
    "print(ironmen_df[ironmen_df.loc[:,\"ironmen\"] > 10]) "
   ]
  },
  {
   "cell_type": "code",
   "execution_count": 45,
   "metadata": {},
   "outputs": [
    {
     "data": {
      "text/plain": [
       "0     True\n",
       "1    False\n",
       "2     True\n",
       "3     True\n",
       "4    False\n",
       "5     True\n",
       "Name: ironmen, dtype: bool"
      ]
     },
     "execution_count": 45,
     "metadata": {},
     "output_type": "execute_result"
    }
   ],
   "source": [
    "ironmen_df.loc[:,\"ironmen\"] > 10"
   ]
  },
  {
   "cell_type": "code",
   "execution_count": 47,
   "metadata": {},
   "outputs": [
    {
     "name": "stdout",
     "output_type": "stream",
     "text": [
      "(6, 2)\n",
      "---\n",
      "         ironmen\n",
      "count   6.000000\n",
      "mean   23.666667\n",
      "std    22.393451\n",
      "min     6.000000\n",
      "25%     9.000000\n",
      "50%    12.000000\n",
      "75%    37.500000\n",
      "max    58.000000\n",
      "---\n",
      "       groups  ironmen\n",
      "0  Modern Web       46\n",
      "1      DevOps        8\n",
      "2       Cloud       12\n",
      "---\n",
      "     groups  ironmen\n",
      "3  Big Data       12\n",
      "4  Security        6\n",
      "5     自我挑戰組       58\n",
      "---\n",
      "Index(['groups', 'ironmen'], dtype='object')\n",
      "---\n",
      "RangeIndex(start=0, stop=6, step=1)\n"
     ]
    }
   ],
   "source": [
    "import pandas as pd\n",
    "\n",
    "groups = [\"Modern Web\", \"DevOps\", \"Cloud\", \"Big Data\", \"Security\", \"自我挑戰組\"]\n",
    "ironmen = [46, 8, 12, 12, 6, 58]\n",
    "\n",
    "ironmen_dict = {\"groups\": groups,\n",
    "                \"ironmen\": ironmen\n",
    "                }\n",
    "\n",
    "print(ironmen_df.shape) # 回傳列數與欄數\n",
    "print(\"---\")\n",
    "print(ironmen_df.describe()) # 回傳描述性統計\n",
    "print(\"---\")\n",
    "print(ironmen_df.head(3)) # 回傳前三筆觀測值\n",
    "print(\"---\")\n",
    "print(ironmen_df.tail(3)) # 回傳後三筆觀測值\n",
    "print(\"---\")\n",
    "print(ironmen_df.columns) # 回傳欄位名稱\n",
    "print(\"---\")\n",
    "print(ironmen_df.index) # 回傳 index\n"
   ]
  },
  {
   "cell_type": "code",
   "execution_count": null,
   "metadata": {},
   "outputs": [],
   "source": []
  }
 ],
 "metadata": {
  "kernelspec": {
   "display_name": "Python 3",
   "language": "python",
   "name": "python3"
  },
  "language_info": {
   "codemirror_mode": {
    "name": "ipython",
    "version": 3
   },
   "file_extension": ".py",
   "mimetype": "text/x-python",
   "name": "python",
   "nbconvert_exporter": "python",
   "pygments_lexer": "ipython3",
   "version": "3.7.3"
  }
 },
 "nbformat": 4,
 "nbformat_minor": 2
}
